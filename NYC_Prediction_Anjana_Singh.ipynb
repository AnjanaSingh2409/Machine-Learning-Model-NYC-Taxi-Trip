{
 "cells": [
  {
   "cell_type": "code",
   "execution_count": 1,
   "id": "fe718a5e",
   "metadata": {},
   "outputs": [],
   "source": [
    "import pandas as pd\n",
    "import numpy as np\n",
    "import matplotlib.pyplot as plt\n",
    "import seaborn as sns\n",
    "import datetime as dt\n",
    "%matplotlib inline\n",
    "import warnings\n",
    "warnings.filterwarnings('ignore')"
   ]
  },
  {
   "cell_type": "markdown",
   "id": "722706ef",
   "metadata": {},
   "source": [
    "Importing Data"
   ]
  },
  {
   "cell_type": "code",
   "execution_count": 2,
   "id": "a852f368",
   "metadata": {},
   "outputs": [],
   "source": [
    "data = pd.read_csv('nyc_taxi_trip_duration.csv')"
   ]
  },
  {
   "cell_type": "code",
   "execution_count": 3,
   "id": "39bfd10d",
   "metadata": {},
   "outputs": [
    {
     "data": {
      "text/plain": [
       "(729322, 11)"
      ]
     },
     "execution_count": 3,
     "metadata": {},
     "output_type": "execute_result"
    }
   ],
   "source": [
    "data.shape"
   ]
  },
  {
   "cell_type": "code",
   "execution_count": 4,
   "id": "0921d2fa",
   "metadata": {},
   "outputs": [
    {
     "data": {
      "text/plain": [
       "Index(['id', 'vendor_id', 'pickup_datetime', 'dropoff_datetime',\n",
       "       'passenger_count', 'pickup_longitude', 'pickup_latitude',\n",
       "       'dropoff_longitude', 'dropoff_latitude', 'store_and_fwd_flag',\n",
       "       'trip_duration'],\n",
       "      dtype='object')"
      ]
     },
     "execution_count": 4,
     "metadata": {},
     "output_type": "execute_result"
    }
   ],
   "source": [
    "data.columns"
   ]
  },
  {
   "cell_type": "markdown",
   "id": "23a51afb",
   "metadata": {},
   "source": [
    "In the Dataset, we have 729322 rows and 11 columns"
   ]
  },
  {
   "cell_type": "markdown",
   "id": "14430ac4",
   "metadata": {},
   "source": [
    "Dataset Variables are as follows :\n",
    "1. id — a unique identifier for each trip\n",
    "2. vendor_id — a code indicating the provider associated with the trip record\n",
    "3. pickup_datetime — date and time when the meter was engaged\n",
    "4. dropoff_datetime — date and time when the meter was disengaged\n",
    "5. passenger_count — the number of passengers in the vehicle (driver entered value)\n",
    "6. pickup_longitude — the longitude where the meter was engaged\n",
    "7. pickup_latitude — the latitude where the meter was engaged\n",
    "8. dropoff_longitude — the longitude where the meter was disengaged\n",
    "9. dropoff_latitude — the latitude where the meter was disengaged\n",
    "10. store_and_fwd_flag — This flag indicates whether the trip record was held in vehicle memory before sending to the vendor because the vehicle did not have a connection to the server — Y=store and forward; N=not a store and forward trip.\n",
    "11. trip_duration — duration of the trip in seconds"
   ]
  },
  {
   "cell_type": "code",
   "execution_count": 5,
   "id": "26693888",
   "metadata": {},
   "outputs": [
    {
     "data": {
      "text/plain": [
       "id                     object\n",
       "vendor_id               int64\n",
       "pickup_datetime        object\n",
       "dropoff_datetime       object\n",
       "passenger_count         int64\n",
       "pickup_longitude      float64\n",
       "pickup_latitude       float64\n",
       "dropoff_longitude     float64\n",
       "dropoff_latitude      float64\n",
       "store_and_fwd_flag     object\n",
       "trip_duration           int64\n",
       "dtype: object"
      ]
     },
     "execution_count": 5,
     "metadata": {},
     "output_type": "execute_result"
    }
   ],
   "source": [
    "data.dtypes"
   ]
  },
  {
   "cell_type": "code",
   "execution_count": 6,
   "id": "0f6108e1",
   "metadata": {},
   "outputs": [
    {
     "data": {
      "text/html": [
       "<div>\n",
       "<style scoped>\n",
       "    .dataframe tbody tr th:only-of-type {\n",
       "        vertical-align: middle;\n",
       "    }\n",
       "\n",
       "    .dataframe tbody tr th {\n",
       "        vertical-align: top;\n",
       "    }\n",
       "\n",
       "    .dataframe thead th {\n",
       "        text-align: right;\n",
       "    }\n",
       "</style>\n",
       "<table border=\"1\" class=\"dataframe\">\n",
       "  <thead>\n",
       "    <tr style=\"text-align: right;\">\n",
       "      <th></th>\n",
       "      <th>id</th>\n",
       "      <th>vendor_id</th>\n",
       "      <th>pickup_datetime</th>\n",
       "      <th>dropoff_datetime</th>\n",
       "      <th>passenger_count</th>\n",
       "      <th>pickup_longitude</th>\n",
       "      <th>pickup_latitude</th>\n",
       "      <th>dropoff_longitude</th>\n",
       "      <th>dropoff_latitude</th>\n",
       "      <th>store_and_fwd_flag</th>\n",
       "      <th>trip_duration</th>\n",
       "    </tr>\n",
       "  </thead>\n",
       "  <tbody>\n",
       "    <tr>\n",
       "      <th>0</th>\n",
       "      <td>id1080784</td>\n",
       "      <td>2</td>\n",
       "      <td>29-02-2016 16:40</td>\n",
       "      <td>29-02-2016 16:47</td>\n",
       "      <td>1</td>\n",
       "      <td>-73.953918</td>\n",
       "      <td>40.778873</td>\n",
       "      <td>-73.963875</td>\n",
       "      <td>40.771164</td>\n",
       "      <td>N</td>\n",
       "      <td>400</td>\n",
       "    </tr>\n",
       "    <tr>\n",
       "      <th>1</th>\n",
       "      <td>id0889885</td>\n",
       "      <td>1</td>\n",
       "      <td>11-03-2016 23:35</td>\n",
       "      <td>11-03-2016 23:53</td>\n",
       "      <td>2</td>\n",
       "      <td>-73.988312</td>\n",
       "      <td>40.731743</td>\n",
       "      <td>-73.994751</td>\n",
       "      <td>40.694931</td>\n",
       "      <td>N</td>\n",
       "      <td>1100</td>\n",
       "    </tr>\n",
       "    <tr>\n",
       "      <th>2</th>\n",
       "      <td>id0857912</td>\n",
       "      <td>2</td>\n",
       "      <td>21-02-2016 17:59</td>\n",
       "      <td>21-02-2016 18:26</td>\n",
       "      <td>2</td>\n",
       "      <td>-73.997314</td>\n",
       "      <td>40.721458</td>\n",
       "      <td>-73.948029</td>\n",
       "      <td>40.774918</td>\n",
       "      <td>N</td>\n",
       "      <td>1635</td>\n",
       "    </tr>\n",
       "    <tr>\n",
       "      <th>3</th>\n",
       "      <td>id3744273</td>\n",
       "      <td>2</td>\n",
       "      <td>05-01-2016 09:44</td>\n",
       "      <td>05-01-2016 10:03</td>\n",
       "      <td>6</td>\n",
       "      <td>-73.961670</td>\n",
       "      <td>40.759720</td>\n",
       "      <td>-73.956779</td>\n",
       "      <td>40.780628</td>\n",
       "      <td>N</td>\n",
       "      <td>1141</td>\n",
       "    </tr>\n",
       "    <tr>\n",
       "      <th>4</th>\n",
       "      <td>id0232939</td>\n",
       "      <td>1</td>\n",
       "      <td>17-02-2016 06:42</td>\n",
       "      <td>17-02-2016 06:56</td>\n",
       "      <td>1</td>\n",
       "      <td>-74.017120</td>\n",
       "      <td>40.708469</td>\n",
       "      <td>-73.988182</td>\n",
       "      <td>40.740631</td>\n",
       "      <td>N</td>\n",
       "      <td>848</td>\n",
       "    </tr>\n",
       "  </tbody>\n",
       "</table>\n",
       "</div>"
      ],
      "text/plain": [
       "          id  vendor_id   pickup_datetime  dropoff_datetime  passenger_count  \\\n",
       "0  id1080784          2  29-02-2016 16:40  29-02-2016 16:47                1   \n",
       "1  id0889885          1  11-03-2016 23:35  11-03-2016 23:53                2   \n",
       "2  id0857912          2  21-02-2016 17:59  21-02-2016 18:26                2   \n",
       "3  id3744273          2  05-01-2016 09:44  05-01-2016 10:03                6   \n",
       "4  id0232939          1  17-02-2016 06:42  17-02-2016 06:56                1   \n",
       "\n",
       "   pickup_longitude  pickup_latitude  dropoff_longitude  dropoff_latitude  \\\n",
       "0        -73.953918        40.778873         -73.963875         40.771164   \n",
       "1        -73.988312        40.731743         -73.994751         40.694931   \n",
       "2        -73.997314        40.721458         -73.948029         40.774918   \n",
       "3        -73.961670        40.759720         -73.956779         40.780628   \n",
       "4        -74.017120        40.708469         -73.988182         40.740631   \n",
       "\n",
       "  store_and_fwd_flag  trip_duration  \n",
       "0                  N            400  \n",
       "1                  N           1100  \n",
       "2                  N           1635  \n",
       "3                  N           1141  \n",
       "4                  N            848  "
      ]
     },
     "execution_count": 6,
     "metadata": {},
     "output_type": "execute_result"
    }
   ],
   "source": [
    "#sample of first 5 rows\n",
    "data.head()"
   ]
  },
  {
   "cell_type": "code",
   "execution_count": 7,
   "id": "016eccc9",
   "metadata": {},
   "outputs": [
    {
     "data": {
      "text/html": [
       "<div>\n",
       "<style scoped>\n",
       "    .dataframe tbody tr th:only-of-type {\n",
       "        vertical-align: middle;\n",
       "    }\n",
       "\n",
       "    .dataframe tbody tr th {\n",
       "        vertical-align: top;\n",
       "    }\n",
       "\n",
       "    .dataframe thead th {\n",
       "        text-align: right;\n",
       "    }\n",
       "</style>\n",
       "<table border=\"1\" class=\"dataframe\">\n",
       "  <thead>\n",
       "    <tr style=\"text-align: right;\">\n",
       "      <th></th>\n",
       "      <th>id</th>\n",
       "      <th>vendor_id</th>\n",
       "      <th>pickup_datetime</th>\n",
       "      <th>dropoff_datetime</th>\n",
       "      <th>passenger_count</th>\n",
       "      <th>pickup_longitude</th>\n",
       "      <th>pickup_latitude</th>\n",
       "      <th>dropoff_longitude</th>\n",
       "      <th>dropoff_latitude</th>\n",
       "      <th>store_and_fwd_flag</th>\n",
       "      <th>trip_duration</th>\n",
       "    </tr>\n",
       "  </thead>\n",
       "  <tbody>\n",
       "    <tr>\n",
       "      <th>729317</th>\n",
       "      <td>id3905982</td>\n",
       "      <td>2</td>\n",
       "      <td>21-05-2016 13:29</td>\n",
       "      <td>21-05-2016 13:34</td>\n",
       "      <td>2</td>\n",
       "      <td>-73.965919</td>\n",
       "      <td>40.789780</td>\n",
       "      <td>-73.952637</td>\n",
       "      <td>40.789181</td>\n",
       "      <td>N</td>\n",
       "      <td>296</td>\n",
       "    </tr>\n",
       "    <tr>\n",
       "      <th>729318</th>\n",
       "      <td>id0102861</td>\n",
       "      <td>1</td>\n",
       "      <td>22-02-2016 00:43</td>\n",
       "      <td>22-02-2016 00:48</td>\n",
       "      <td>1</td>\n",
       "      <td>-73.996666</td>\n",
       "      <td>40.737434</td>\n",
       "      <td>-74.001320</td>\n",
       "      <td>40.731911</td>\n",
       "      <td>N</td>\n",
       "      <td>315</td>\n",
       "    </tr>\n",
       "    <tr>\n",
       "      <th>729319</th>\n",
       "      <td>id0439699</td>\n",
       "      <td>1</td>\n",
       "      <td>15-04-2016 18:56</td>\n",
       "      <td>15-04-2016 19:08</td>\n",
       "      <td>1</td>\n",
       "      <td>-73.997849</td>\n",
       "      <td>40.761696</td>\n",
       "      <td>-74.001488</td>\n",
       "      <td>40.741207</td>\n",
       "      <td>N</td>\n",
       "      <td>673</td>\n",
       "    </tr>\n",
       "    <tr>\n",
       "      <th>729320</th>\n",
       "      <td>id2078912</td>\n",
       "      <td>1</td>\n",
       "      <td>19-06-2016 09:50</td>\n",
       "      <td>19-06-2016 09:58</td>\n",
       "      <td>1</td>\n",
       "      <td>-74.006706</td>\n",
       "      <td>40.708244</td>\n",
       "      <td>-74.013550</td>\n",
       "      <td>40.713814</td>\n",
       "      <td>N</td>\n",
       "      <td>447</td>\n",
       "    </tr>\n",
       "    <tr>\n",
       "      <th>729321</th>\n",
       "      <td>id1053441</td>\n",
       "      <td>2</td>\n",
       "      <td>01-01-2016 17:24</td>\n",
       "      <td>01-01-2016 17:44</td>\n",
       "      <td>4</td>\n",
       "      <td>-74.003342</td>\n",
       "      <td>40.743839</td>\n",
       "      <td>-73.945847</td>\n",
       "      <td>40.712841</td>\n",
       "      <td>N</td>\n",
       "      <td>1224</td>\n",
       "    </tr>\n",
       "  </tbody>\n",
       "</table>\n",
       "</div>"
      ],
      "text/plain": [
       "               id  vendor_id   pickup_datetime  dropoff_datetime  \\\n",
       "729317  id3905982          2  21-05-2016 13:29  21-05-2016 13:34   \n",
       "729318  id0102861          1  22-02-2016 00:43  22-02-2016 00:48   \n",
       "729319  id0439699          1  15-04-2016 18:56  15-04-2016 19:08   \n",
       "729320  id2078912          1  19-06-2016 09:50  19-06-2016 09:58   \n",
       "729321  id1053441          2  01-01-2016 17:24  01-01-2016 17:44   \n",
       "\n",
       "        passenger_count  pickup_longitude  pickup_latitude  dropoff_longitude  \\\n",
       "729317                2        -73.965919        40.789780         -73.952637   \n",
       "729318                1        -73.996666        40.737434         -74.001320   \n",
       "729319                1        -73.997849        40.761696         -74.001488   \n",
       "729320                1        -74.006706        40.708244         -74.013550   \n",
       "729321                4        -74.003342        40.743839         -73.945847   \n",
       "\n",
       "        dropoff_latitude store_and_fwd_flag  trip_duration  \n",
       "729317         40.789181                  N            296  \n",
       "729318         40.731911                  N            315  \n",
       "729319         40.741207                  N            673  \n",
       "729320         40.713814                  N            447  \n",
       "729321         40.712841                  N           1224  "
      ]
     },
     "execution_count": 7,
     "metadata": {},
     "output_type": "execute_result"
    }
   ],
   "source": [
    "#sample of first 5 rows\n",
    "data.tail()"
   ]
  },
  {
   "cell_type": "markdown",
   "id": "c57f6275",
   "metadata": {},
   "source": [
    "Checking for null values"
   ]
  },
  {
   "cell_type": "code",
   "execution_count": 8,
   "id": "1261bffc",
   "metadata": {},
   "outputs": [
    {
     "data": {
      "text/plain": [
       "id                    0\n",
       "vendor_id             0\n",
       "pickup_datetime       0\n",
       "dropoff_datetime      0\n",
       "passenger_count       0\n",
       "pickup_longitude      0\n",
       "pickup_latitude       0\n",
       "dropoff_longitude     0\n",
       "dropoff_latitude      0\n",
       "store_and_fwd_flag    0\n",
       "trip_duration         0\n",
       "dtype: int64"
      ]
     },
     "execution_count": 8,
     "metadata": {},
     "output_type": "execute_result"
    }
   ],
   "source": [
    "data.isnull().sum()"
   ]
  },
  {
   "cell_type": "markdown",
   "id": "ffc1b0db",
   "metadata": {},
   "source": [
    "In this dataset, we have 0 missing values and it's good to go further and work on each datatype of the dataset."
   ]
  },
  {
   "cell_type": "code",
   "execution_count": 9,
   "id": "d5d82506",
   "metadata": {},
   "outputs": [],
   "source": [
    "# Converting store_and_fwd_flag to category\n",
    "data['store_and_fwd_flag'] = data['store_and_fwd_flag'].astype('category')"
   ]
  },
  {
   "cell_type": "code",
   "execution_count": 10,
   "id": "41c693ea",
   "metadata": {},
   "outputs": [],
   "source": [
    "# Converting pickup and dropoff datetime from object to datetime\n",
    "data['pickup_datetime'] = pd.to_datetime(data['pickup_datetime'])\n",
    "data['dropoff_datetime'] = pd.to_datetime(data['dropoff_datetime'])"
   ]
  },
  {
   "cell_type": "code",
   "execution_count": 11,
   "id": "6eeb086a",
   "metadata": {},
   "outputs": [
    {
     "data": {
      "text/html": [
       "<div>\n",
       "<style scoped>\n",
       "    .dataframe tbody tr th:only-of-type {\n",
       "        vertical-align: middle;\n",
       "    }\n",
       "\n",
       "    .dataframe tbody tr th {\n",
       "        vertical-align: top;\n",
       "    }\n",
       "\n",
       "    .dataframe thead th {\n",
       "        text-align: right;\n",
       "    }\n",
       "</style>\n",
       "<table border=\"1\" class=\"dataframe\">\n",
       "  <thead>\n",
       "    <tr style=\"text-align: right;\">\n",
       "      <th></th>\n",
       "      <th>vendor_id</th>\n",
       "      <th>passenger_count</th>\n",
       "      <th>pickup_longitude</th>\n",
       "      <th>pickup_latitude</th>\n",
       "      <th>dropoff_longitude</th>\n",
       "      <th>dropoff_latitude</th>\n",
       "      <th>trip_duration</th>\n",
       "    </tr>\n",
       "  </thead>\n",
       "  <tbody>\n",
       "    <tr>\n",
       "      <th>count</th>\n",
       "      <td>729322.000000</td>\n",
       "      <td>729322.000000</td>\n",
       "      <td>729322.000000</td>\n",
       "      <td>729322.000000</td>\n",
       "      <td>729322.000000</td>\n",
       "      <td>729322.000000</td>\n",
       "      <td>7.293220e+05</td>\n",
       "    </tr>\n",
       "    <tr>\n",
       "      <th>mean</th>\n",
       "      <td>1.535403</td>\n",
       "      <td>1.662055</td>\n",
       "      <td>-73.973513</td>\n",
       "      <td>40.750919</td>\n",
       "      <td>-73.973422</td>\n",
       "      <td>40.751775</td>\n",
       "      <td>9.522291e+02</td>\n",
       "    </tr>\n",
       "    <tr>\n",
       "      <th>std</th>\n",
       "      <td>0.498745</td>\n",
       "      <td>1.312446</td>\n",
       "      <td>0.069754</td>\n",
       "      <td>0.033594</td>\n",
       "      <td>0.069588</td>\n",
       "      <td>0.036037</td>\n",
       "      <td>3.864626e+03</td>\n",
       "    </tr>\n",
       "    <tr>\n",
       "      <th>min</th>\n",
       "      <td>1.000000</td>\n",
       "      <td>0.000000</td>\n",
       "      <td>-121.933342</td>\n",
       "      <td>34.712235</td>\n",
       "      <td>-121.933304</td>\n",
       "      <td>32.181141</td>\n",
       "      <td>1.000000e+00</td>\n",
       "    </tr>\n",
       "    <tr>\n",
       "      <th>25%</th>\n",
       "      <td>1.000000</td>\n",
       "      <td>1.000000</td>\n",
       "      <td>-73.991859</td>\n",
       "      <td>40.737335</td>\n",
       "      <td>-73.991318</td>\n",
       "      <td>40.735931</td>\n",
       "      <td>3.970000e+02</td>\n",
       "    </tr>\n",
       "    <tr>\n",
       "      <th>50%</th>\n",
       "      <td>2.000000</td>\n",
       "      <td>1.000000</td>\n",
       "      <td>-73.981758</td>\n",
       "      <td>40.754070</td>\n",
       "      <td>-73.979759</td>\n",
       "      <td>40.754509</td>\n",
       "      <td>6.630000e+02</td>\n",
       "    </tr>\n",
       "    <tr>\n",
       "      <th>75%</th>\n",
       "      <td>2.000000</td>\n",
       "      <td>2.000000</td>\n",
       "      <td>-73.967361</td>\n",
       "      <td>40.768314</td>\n",
       "      <td>-73.963036</td>\n",
       "      <td>40.769741</td>\n",
       "      <td>1.075000e+03</td>\n",
       "    </tr>\n",
       "    <tr>\n",
       "      <th>max</th>\n",
       "      <td>2.000000</td>\n",
       "      <td>9.000000</td>\n",
       "      <td>-65.897385</td>\n",
       "      <td>51.881084</td>\n",
       "      <td>-65.897385</td>\n",
       "      <td>43.921028</td>\n",
       "      <td>1.939736e+06</td>\n",
       "    </tr>\n",
       "  </tbody>\n",
       "</table>\n",
       "</div>"
      ],
      "text/plain": [
       "           vendor_id  passenger_count  pickup_longitude  pickup_latitude  \\\n",
       "count  729322.000000    729322.000000     729322.000000    729322.000000   \n",
       "mean        1.535403         1.662055        -73.973513        40.750919   \n",
       "std         0.498745         1.312446          0.069754         0.033594   \n",
       "min         1.000000         0.000000       -121.933342        34.712235   \n",
       "25%         1.000000         1.000000        -73.991859        40.737335   \n",
       "50%         2.000000         1.000000        -73.981758        40.754070   \n",
       "75%         2.000000         2.000000        -73.967361        40.768314   \n",
       "max         2.000000         9.000000        -65.897385        51.881084   \n",
       "\n",
       "       dropoff_longitude  dropoff_latitude  trip_duration  \n",
       "count      729322.000000     729322.000000   7.293220e+05  \n",
       "mean          -73.973422         40.751775   9.522291e+02  \n",
       "std             0.069588          0.036037   3.864626e+03  \n",
       "min          -121.933304         32.181141   1.000000e+00  \n",
       "25%           -73.991318         40.735931   3.970000e+02  \n",
       "50%           -73.979759         40.754509   6.630000e+02  \n",
       "75%           -73.963036         40.769741   1.075000e+03  \n",
       "max           -65.897385         43.921028   1.939736e+06  "
      ]
     },
     "execution_count": 11,
     "metadata": {},
     "output_type": "execute_result"
    }
   ],
   "source": [
    "data.describe()"
   ]
  },
  {
   "cell_type": "code",
   "execution_count": 12,
   "id": "d7860551",
   "metadata": {},
   "outputs": [],
   "source": [
    "# Using datetime to create new columns - day_name, day_number, month, pickup_hour\n",
    "\n",
    "data['day_name'] = data.pickup_datetime.dt.day\n",
    "data['month'] = data.pickup_datetime.dt.month\n",
    "data['day_number'] = data.pickup_datetime.dt.weekday\n",
    "data['pickup_hour'] = data.pickup_datetime.dt.hour"
   ]
  },
  {
   "cell_type": "code",
   "execution_count": 13,
   "id": "d4ba9799",
   "metadata": {},
   "outputs": [],
   "source": [
    "# Converting day_number, month, pickup_hour to category\n",
    "\n",
    "data['month'] = data['month'].astype('category')\n",
    "data['day_number'] = data['day_number'].astype('category')\n",
    "data['pickup_hour'] = data['pickup_hour'].astype('category')"
   ]
  },
  {
   "cell_type": "code",
   "execution_count": 14,
   "id": "9d5b230a",
   "metadata": {},
   "outputs": [
    {
     "data": {
      "text/plain": [
       "id                            object\n",
       "vendor_id                      int64\n",
       "pickup_datetime       datetime64[ns]\n",
       "dropoff_datetime      datetime64[ns]\n",
       "passenger_count                int64\n",
       "pickup_longitude             float64\n",
       "pickup_latitude              float64\n",
       "dropoff_longitude            float64\n",
       "dropoff_latitude             float64\n",
       "store_and_fwd_flag          category\n",
       "trip_duration                  int64\n",
       "day_name                       int64\n",
       "month                       category\n",
       "day_number                  category\n",
       "pickup_hour                 category\n",
       "dtype: object"
      ]
     },
     "execution_count": 14,
     "metadata": {},
     "output_type": "execute_result"
    }
   ],
   "source": [
    "data.dtypes"
   ]
  },
  {
   "cell_type": "markdown",
   "id": "65c32d1d",
   "metadata": {},
   "source": [
    "Looking at the dataset, we come to a point that the dataset is time and distance related. So, we can calculate the distance travelled for each and every trip."
   ]
  },
  {
   "cell_type": "code",
   "execution_count": 15,
   "id": "67c0b6eb",
   "metadata": {},
   "outputs": [],
   "source": [
    "# Importing geopy which can be used for distance calculation\n",
    "import geopy.distance\n",
    "\n",
    "def calc_dist(df):\n",
    "    pickup = (df['pickup_latitude'], df['pickup_longitude'])\n",
    "    dropoff = (df['dropoff_latitude'], df['dropoff_longitude'])\n",
    "    return geopy.distance.distance(pickup, dropoff).km"
   ]
  },
  {
   "cell_type": "code",
   "execution_count": 16,
   "id": "0bdf9c58",
   "metadata": {},
   "outputs": [],
   "source": [
    "# Adding the distance column in our dataframe\n",
    "\n",
    "data['distance'] = data.apply(lambda x: calc_dist(x), axis=1)"
   ]
  },
  {
   "cell_type": "markdown",
   "id": "23553e86",
   "metadata": {},
   "source": [
    "We can calculate the speed of the vehicle at each trip by the distance and the trip duration."
   ]
  },
  {
   "cell_type": "code",
   "execution_count": 17,
   "id": "51bd29ae",
   "metadata": {},
   "outputs": [],
   "source": [
    "data['speed'] = (data.distance/(data.trip_duration/3600))"
   ]
  },
  {
   "cell_type": "code",
   "execution_count": 18,
   "id": "4609bcdf",
   "metadata": {},
   "outputs": [],
   "source": [
    "# Considering only upto 6 passenger count to prevent any of the outlier\n",
    "\n",
    "data = data[(data['passenger_count'] <= 6) & (data['passenger_count'] >0)]"
   ]
  },
  {
   "cell_type": "code",
   "execution_count": 19,
   "id": "dd1dd560",
   "metadata": {},
   "outputs": [],
   "source": [
    "# Converting all the categorical variables to numerical\n",
    "\n",
    "dummy = pd.get_dummies(data.store_and_fwd_flag, prefix = 'flag')\n",
    "data = pd.concat([data, dummy], axis =1)\n",
    "\n",
    "dummy = pd.get_dummies(data.vendor_id, prefix = 'vendor_id')\n",
    "data = pd.concat([data, dummy], axis =1)\n",
    "\n",
    "dummy = pd.get_dummies(data.month, prefix = 'month')\n",
    "data = pd.concat([data, dummy], axis = 1)\n",
    "\n",
    "dummy = pd.get_dummies(data.day_number, prefix = 'day_number')\n",
    "data = pd.concat([data,dummy], axis = 1)\n",
    "\n",
    "dummy = pd.get_dummies(data.pickup_hour, prefix = 'pickup_hour')\n",
    "data = pd.concat([data, dummy], axis = 1)\n",
    "\n",
    "dummy = pd.get_dummies(data.passenger_count, prefix = 'passenger_count')\n",
    "data = pd.concat([data, dummy], axis = 1)"
   ]
  },
  {
   "cell_type": "code",
   "execution_count": 20,
   "id": "d67389ad",
   "metadata": {},
   "outputs": [
    {
     "data": {
      "text/html": [
       "<div>\n",
       "<style scoped>\n",
       "    .dataframe tbody tr th:only-of-type {\n",
       "        vertical-align: middle;\n",
       "    }\n",
       "\n",
       "    .dataframe tbody tr th {\n",
       "        vertical-align: top;\n",
       "    }\n",
       "\n",
       "    .dataframe thead th {\n",
       "        text-align: right;\n",
       "    }\n",
       "</style>\n",
       "<table border=\"1\" class=\"dataframe\">\n",
       "  <thead>\n",
       "    <tr style=\"text-align: right;\">\n",
       "      <th></th>\n",
       "      <th>id</th>\n",
       "      <th>vendor_id</th>\n",
       "      <th>pickup_datetime</th>\n",
       "      <th>dropoff_datetime</th>\n",
       "      <th>passenger_count</th>\n",
       "      <th>pickup_longitude</th>\n",
       "      <th>pickup_latitude</th>\n",
       "      <th>dropoff_longitude</th>\n",
       "      <th>dropoff_latitude</th>\n",
       "      <th>store_and_fwd_flag</th>\n",
       "      <th>...</th>\n",
       "      <th>pickup_hour_20</th>\n",
       "      <th>pickup_hour_21</th>\n",
       "      <th>pickup_hour_22</th>\n",
       "      <th>pickup_hour_23</th>\n",
       "      <th>passenger_count_1</th>\n",
       "      <th>passenger_count_2</th>\n",
       "      <th>passenger_count_3</th>\n",
       "      <th>passenger_count_4</th>\n",
       "      <th>passenger_count_5</th>\n",
       "      <th>passenger_count_6</th>\n",
       "    </tr>\n",
       "  </thead>\n",
       "  <tbody>\n",
       "    <tr>\n",
       "      <th>0</th>\n",
       "      <td>id1080784</td>\n",
       "      <td>2</td>\n",
       "      <td>2016-02-29 16:40:00</td>\n",
       "      <td>2016-02-29 16:47:00</td>\n",
       "      <td>1</td>\n",
       "      <td>-73.953918</td>\n",
       "      <td>40.778873</td>\n",
       "      <td>-73.963875</td>\n",
       "      <td>40.771164</td>\n",
       "      <td>N</td>\n",
       "      <td>...</td>\n",
       "      <td>0</td>\n",
       "      <td>0</td>\n",
       "      <td>0</td>\n",
       "      <td>0</td>\n",
       "      <td>1</td>\n",
       "      <td>0</td>\n",
       "      <td>0</td>\n",
       "      <td>0</td>\n",
       "      <td>0</td>\n",
       "      <td>0</td>\n",
       "    </tr>\n",
       "    <tr>\n",
       "      <th>1</th>\n",
       "      <td>id0889885</td>\n",
       "      <td>1</td>\n",
       "      <td>2016-11-03 23:35:00</td>\n",
       "      <td>2016-11-03 23:53:00</td>\n",
       "      <td>2</td>\n",
       "      <td>-73.988312</td>\n",
       "      <td>40.731743</td>\n",
       "      <td>-73.994751</td>\n",
       "      <td>40.694931</td>\n",
       "      <td>N</td>\n",
       "      <td>...</td>\n",
       "      <td>0</td>\n",
       "      <td>0</td>\n",
       "      <td>0</td>\n",
       "      <td>1</td>\n",
       "      <td>0</td>\n",
       "      <td>1</td>\n",
       "      <td>0</td>\n",
       "      <td>0</td>\n",
       "      <td>0</td>\n",
       "      <td>0</td>\n",
       "    </tr>\n",
       "    <tr>\n",
       "      <th>2</th>\n",
       "      <td>id0857912</td>\n",
       "      <td>2</td>\n",
       "      <td>2016-02-21 17:59:00</td>\n",
       "      <td>2016-02-21 18:26:00</td>\n",
       "      <td>2</td>\n",
       "      <td>-73.997314</td>\n",
       "      <td>40.721458</td>\n",
       "      <td>-73.948029</td>\n",
       "      <td>40.774918</td>\n",
       "      <td>N</td>\n",
       "      <td>...</td>\n",
       "      <td>0</td>\n",
       "      <td>0</td>\n",
       "      <td>0</td>\n",
       "      <td>0</td>\n",
       "      <td>0</td>\n",
       "      <td>1</td>\n",
       "      <td>0</td>\n",
       "      <td>0</td>\n",
       "      <td>0</td>\n",
       "      <td>0</td>\n",
       "    </tr>\n",
       "    <tr>\n",
       "      <th>3</th>\n",
       "      <td>id3744273</td>\n",
       "      <td>2</td>\n",
       "      <td>2016-05-01 09:44:00</td>\n",
       "      <td>2016-05-01 10:03:00</td>\n",
       "      <td>6</td>\n",
       "      <td>-73.961670</td>\n",
       "      <td>40.759720</td>\n",
       "      <td>-73.956779</td>\n",
       "      <td>40.780628</td>\n",
       "      <td>N</td>\n",
       "      <td>...</td>\n",
       "      <td>0</td>\n",
       "      <td>0</td>\n",
       "      <td>0</td>\n",
       "      <td>0</td>\n",
       "      <td>0</td>\n",
       "      <td>0</td>\n",
       "      <td>0</td>\n",
       "      <td>0</td>\n",
       "      <td>0</td>\n",
       "      <td>1</td>\n",
       "    </tr>\n",
       "    <tr>\n",
       "      <th>4</th>\n",
       "      <td>id0232939</td>\n",
       "      <td>1</td>\n",
       "      <td>2016-02-17 06:42:00</td>\n",
       "      <td>2016-02-17 06:56:00</td>\n",
       "      <td>1</td>\n",
       "      <td>-74.017120</td>\n",
       "      <td>40.708469</td>\n",
       "      <td>-73.988182</td>\n",
       "      <td>40.740631</td>\n",
       "      <td>N</td>\n",
       "      <td>...</td>\n",
       "      <td>0</td>\n",
       "      <td>0</td>\n",
       "      <td>0</td>\n",
       "      <td>0</td>\n",
       "      <td>1</td>\n",
       "      <td>0</td>\n",
       "      <td>0</td>\n",
       "      <td>0</td>\n",
       "      <td>0</td>\n",
       "      <td>0</td>\n",
       "    </tr>\n",
       "  </tbody>\n",
       "</table>\n",
       "<p>5 rows × 70 columns</p>\n",
       "</div>"
      ],
      "text/plain": [
       "          id  vendor_id     pickup_datetime    dropoff_datetime  \\\n",
       "0  id1080784          2 2016-02-29 16:40:00 2016-02-29 16:47:00   \n",
       "1  id0889885          1 2016-11-03 23:35:00 2016-11-03 23:53:00   \n",
       "2  id0857912          2 2016-02-21 17:59:00 2016-02-21 18:26:00   \n",
       "3  id3744273          2 2016-05-01 09:44:00 2016-05-01 10:03:00   \n",
       "4  id0232939          1 2016-02-17 06:42:00 2016-02-17 06:56:00   \n",
       "\n",
       "   passenger_count  pickup_longitude  pickup_latitude  dropoff_longitude  \\\n",
       "0                1        -73.953918        40.778873         -73.963875   \n",
       "1                2        -73.988312        40.731743         -73.994751   \n",
       "2                2        -73.997314        40.721458         -73.948029   \n",
       "3                6        -73.961670        40.759720         -73.956779   \n",
       "4                1        -74.017120        40.708469         -73.988182   \n",
       "\n",
       "   dropoff_latitude store_and_fwd_flag  ...  pickup_hour_20  pickup_hour_21  \\\n",
       "0         40.771164                  N  ...               0               0   \n",
       "1         40.694931                  N  ...               0               0   \n",
       "2         40.774918                  N  ...               0               0   \n",
       "3         40.780628                  N  ...               0               0   \n",
       "4         40.740631                  N  ...               0               0   \n",
       "\n",
       "  pickup_hour_22 pickup_hour_23 passenger_count_1  passenger_count_2  \\\n",
       "0              0              0                 1                  0   \n",
       "1              0              1                 0                  1   \n",
       "2              0              0                 0                  1   \n",
       "3              0              0                 0                  0   \n",
       "4              0              0                 1                  0   \n",
       "\n",
       "   passenger_count_3  passenger_count_4  passenger_count_5  passenger_count_6  \n",
       "0                  0                  0                  0                  0  \n",
       "1                  0                  0                  0                  0  \n",
       "2                  0                  0                  0                  0  \n",
       "3                  0                  0                  0                  1  \n",
       "4                  0                  0                  0                  0  \n",
       "\n",
       "[5 rows x 70 columns]"
      ]
     },
     "execution_count": 20,
     "metadata": {},
     "output_type": "execute_result"
    }
   ],
   "source": [
    "data.head()"
   ]
  },
  {
   "cell_type": "markdown",
   "id": "318a445d",
   "metadata": {},
   "source": [
    "Droping out the unwanted columns from the dataframe."
   ]
  },
  {
   "cell_type": "code",
   "execution_count": 21,
   "id": "09b54172",
   "metadata": {},
   "outputs": [],
   "source": [
    "data = data.drop(['id'], axis = 1)"
   ]
  },
  {
   "cell_type": "code",
   "execution_count": 22,
   "id": "7e5e47b7",
   "metadata": {},
   "outputs": [],
   "source": [
    "data = data.drop(['store_and_fwd_flag'], axis = 1)"
   ]
  },
  {
   "cell_type": "code",
   "execution_count": 23,
   "id": "3e59ac61",
   "metadata": {},
   "outputs": [],
   "source": [
    "data = data.drop(['vendor_id'], axis = 1)"
   ]
  },
  {
   "cell_type": "code",
   "execution_count": 24,
   "id": "528d2095",
   "metadata": {},
   "outputs": [],
   "source": [
    "data = data.drop(['pickup_datetime'], axis = 1)"
   ]
  },
  {
   "cell_type": "code",
   "execution_count": 25,
   "id": "5af321e2",
   "metadata": {},
   "outputs": [],
   "source": [
    "data = data.drop(['dropoff_datetime'], axis = 1)"
   ]
  },
  {
   "cell_type": "code",
   "execution_count": 26,
   "id": "ef6b3ff3",
   "metadata": {},
   "outputs": [],
   "source": [
    "data = data.drop(['day_name'], axis = 1)"
   ]
  },
  {
   "cell_type": "markdown",
   "id": "ab960233",
   "metadata": {},
   "source": [
    "Plotting distribution of trip duration and distance for checking outliers."
   ]
  },
  {
   "cell_type": "code",
   "execution_count": 27,
   "id": "840dd2c4",
   "metadata": {},
   "outputs": [
    {
     "data": {
      "text/plain": [
       "Text(0.5, 1.0, 'Distribution of trip duration')"
      ]
     },
     "execution_count": 27,
     "metadata": {},
     "output_type": "execute_result"
    },
    {
     "data": {
      "image/png": "[encoded data removed]",
      "text/plain": [
       "<Figure size 1200x800 with 1 Axes>"
      ]
     },
     "metadata": {},
     "output_type": "display_data"
    }
   ],
   "source": [
    "plt.figure(figsize=(12, 8))\n",
    "sns.distplot(data['trip_duration'])\n",
    "plt.xlabel('trip duration')\n",
    "plt.title('Distribution of trip duration')"
   ]
  },
  {
   "cell_type": "code",
   "execution_count": 28,
   "id": "7a6ad17e",
   "metadata": {},
   "outputs": [
    {
     "data": {
      "text/plain": [
       "Text(0.5, 1.0, 'Distribution of distance')"
      ]
     },
     "execution_count": 28,
     "metadata": {},
     "output_type": "execute_result"
    },
    {
     "data": {
      "image/png": "[encoded data removed]",
      "text/plain": [
       "<Figure size 1200x800 with 1 Axes>"
      ]
     },
     "metadata": {},
     "output_type": "display_data"
    }
   ],
   "source": [
    "plt.figure(figsize=(12, 8))\n",
    "sns.distplot(data['distance'])\n",
    "plt.xlabel('distance')\n",
    "plt.title('Distribution of distance')"
   ]
  },
  {
   "cell_type": "markdown",
   "id": "5f786f29",
   "metadata": {},
   "source": [
    "We have to remove the potential outliers from distance and trip duration. Here, we have chosen the trip duration part normally greater than 10 seconds and less than 0.5 day."
   ]
  },
  {
   "cell_type": "code",
   "execution_count": 29,
   "id": "a90cc10d",
   "metadata": {},
   "outputs": [],
   "source": [
    "# Removing potential distance outlier\n",
    "\n",
    "data = data[(data['distance'] < data['distance'].quantile(0.95)) & (data['distance'] > data['distance'].quantile(0.05))]\n",
    "\n",
    "# Removing potential trip duration outlier\n",
    "\n",
    "data = data[(data['trip_duration'] < 3*3600) & (data['trip_duration'] > 10)]\n",
    "data = data[(data['trip_duration'] < data['trip_duration'].quantile(0.95)) & (data['trip_duration'] > data['trip_duration'].quantile(0.05))]"
   ]
  },
  {
   "cell_type": "markdown",
   "id": "e8814bd9",
   "metadata": {},
   "source": [
    "Selecting Metric for Evaluation and Building Simple Model"
   ]
  },
  {
   "cell_type": "code",
   "execution_count": 30,
   "id": "3bf88804",
   "metadata": {},
   "outputs": [],
   "source": [
    "# Creating a raw data copy\n",
    "data_copy  = data"
   ]
  },
  {
   "cell_type": "code",
   "execution_count": 31,
   "id": "c0337600",
   "metadata": {},
   "outputs": [],
   "source": [
    "from sklearn.utils import shuffle\n",
    "\n",
    "# Shuffling the dataset\n",
    "data_copy = shuffle(data_copy, random_state = 30)\n",
    "\n",
    "# Creating 4 divisions\n",
    "div = int(data_copy.shape[0]/4)\n",
    "\n",
    "# We will divide the 4 division - 3 for training part and 1 for testing\n",
    "\n",
    "train = data_copy.loc[:3*div+1,:]\n",
    "test = data_copy.loc[3*div+1:]"
   ]
  },
  {
   "cell_type": "markdown",
   "id": "3bada5bf",
   "metadata": {},
   "source": [
    "Calculating Mean of trip duration"
   ]
  },
  {
   "cell_type": "code",
   "execution_count": 32,
   "id": "c2baef74",
   "metadata": {},
   "outputs": [
    {
     "data": {
      "text/plain": [
       "302.9729421962103"
      ]
     },
     "execution_count": 32,
     "metadata": {},
     "output_type": "execute_result"
    }
   ],
   "source": [
    "# storing mean in the test set as a new column\n",
    "test['mean'] = train['trip_duration'].mean()\n",
    "\n",
    "# calculating mean absolute error\n",
    "from sklearn.metrics import mean_absolute_error as MAE\n",
    "\n",
    "mean_error = MAE(test['trip_duration'], test['mean'])\n",
    "mean_error"
   ]
  },
  {
   "cell_type": "markdown",
   "id": "07a77c94",
   "metadata": {},
   "source": [
    "I chosed the most appropriate Evaluation metric for this dataset - Mean Absolute Error because I have used the distance and speed variable concept which is related to time duration also most of the outliers in the data are removed and so mean squared or root mean squared error will not be felt required"
   ]
  },
  {
   "cell_type": "markdown",
   "id": "a51876d2",
   "metadata": {},
   "source": [
    "Linear Regression with Regularization"
   ]
  },
  {
   "cell_type": "code",
   "execution_count": 33,
   "id": "5f921f00",
   "metadata": {},
   "outputs": [
    {
     "data": {
      "text/plain": [
       "((589827, 63), (589827,))"
      ]
     },
     "execution_count": 33,
     "metadata": {},
     "output_type": "execute_result"
    }
   ],
   "source": [
    "# separating independent and dependent variables\n",
    "x5 = data.drop(['trip_duration'], axis =1)\n",
    "y5 = data['trip_duration']\n",
    "x5.shape, y5.shape"
   ]
  },
  {
   "cell_type": "code",
   "execution_count": 34,
   "id": "b5e1e554",
   "metadata": {},
   "outputs": [],
   "source": [
    "# Importing the train test split function\n",
    "from sklearn.model_selection import train_test_split\n",
    "train_x5, test_x5, train_y5, test_y5 = train_test_split(x5, y5, random_state = 65)"
   ]
  },
  {
   "cell_type": "code",
   "execution_count": 35,
   "id": "b37f0f73",
   "metadata": {},
   "outputs": [],
   "source": [
    "from sklearn.linear_model import LinearRegression as LR\n",
    "from sklearn.metrics import mean_absolute_error as Mae"
   ]
  },
  {
   "cell_type": "code",
   "execution_count": 36,
   "id": "79202d63",
   "metadata": {},
   "outputs": [
    {
     "data": {
      "text/plain": [
       "LinearRegression(normalize=True)"
      ]
     },
     "execution_count": 36,
     "metadata": {},
     "output_type": "execute_result"
    }
   ],
   "source": [
    "# Creating instance of Linear Regression\n",
    "lin_reg = LR(normalize = True)\n",
    "\n",
    "# Fitting the model\n",
    "lin_reg.fit(train_x5, train_y5)"
   ]
  },
  {
   "cell_type": "code",
   "execution_count": 37,
   "id": "019b8b48",
   "metadata": {},
   "outputs": [
    {
     "name": "stdout",
     "output_type": "stream",
     "text": [
      "Training Mean Absolute Error is-  106.26358139114316\n"
     ]
    }
   ],
   "source": [
    "# Predicting over the train set and calculating the errors\n",
    "train_pred = lin_reg.predict(train_x5)\n",
    "k1 = Mae(train_pred, train_y5)\n",
    "print('Training Mean Absolute Error is- ', k1)"
   ]
  },
  {
   "cell_type": "code",
   "execution_count": 38,
   "id": "2f0ccff8",
   "metadata": {},
   "outputs": [
    {
     "name": "stdout",
     "output_type": "stream",
     "text": [
      "Test Mean Absolute Error is-  106.15373464806689\n"
     ]
    }
   ],
   "source": [
    "# Predicting over the test set and calculating the errors\n",
    "test_pred = lin_reg.predict(test_x5)\n",
    "k1 = Mae(test_pred, test_y5)\n",
    "print('Test Mean Absolute Error is- ', k1)"
   ]
  },
  {
   "cell_type": "code",
   "execution_count": 39,
   "id": "f18ad1c7",
   "metadata": {},
   "outputs": [],
   "source": [
    "# Importing Ridge from sklearn\n",
    "from sklearn.linear_model import Ridge\n",
    "from sklearn.linear_model import RidgeCV"
   ]
  },
  {
   "cell_type": "code",
   "execution_count": 40,
   "id": "f0c5d4f5",
   "metadata": {},
   "outputs": [],
   "source": [
    "# Creating Ridge Regression with alpha values\n",
    "reg_cv = RidgeCV(alphas = [0.1, 0.5, 1.0, 10.0])"
   ]
  },
  {
   "cell_type": "code",
   "execution_count": 41,
   "id": "92b59a92",
   "metadata": {},
   "outputs": [],
   "source": [
    "#fitting the model into ridge cv\n",
    "model_cv = reg_cv.fit(x5, y5)"
   ]
  },
  {
   "cell_type": "code",
   "execution_count": 42,
   "id": "da16b919",
   "metadata": {},
   "outputs": [
    {
     "data": {
      "text/plain": [
       "0.5"
      ]
     },
     "execution_count": 42,
     "metadata": {},
     "output_type": "execute_result"
    }
   ],
   "source": [
    "#finding the best value of alpha\n",
    "model_cv.alpha_"
   ]
  },
  {
   "cell_type": "code",
   "execution_count": 43,
   "id": "af617d79",
   "metadata": {},
   "outputs": [],
   "source": [
    "#Selecting alpha=0.5 for ridge regression\n",
    "rid_reg = Ridge(alpha = 0.5)"
   ]
  },
  {
   "cell_type": "code",
   "execution_count": 44,
   "id": "f09c7166",
   "metadata": {},
   "outputs": [
    {
     "data": {
      "text/plain": [
       "Ridge(alpha=0.5)"
      ]
     },
     "execution_count": 44,
     "metadata": {},
     "output_type": "execute_result"
    }
   ],
   "source": [
    "# fitting the model on the training set\n",
    "rid_reg.fit(train_x5,train_y5)"
   ]
  },
  {
   "cell_type": "code",
   "execution_count": 45,
   "id": "6ed8138b",
   "metadata": {},
   "outputs": [
    {
     "data": {
      "text/plain": [
       "106.3282845835947"
      ]
     },
     "execution_count": 45,
     "metadata": {},
     "output_type": "execute_result"
    }
   ],
   "source": [
    "#prediction on the training set\n",
    "pred_reg_train = rid_reg.predict(train_x5)\n",
    "linear_train = Mae(train_y5, pred_reg_train)\n",
    "linear_train"
   ]
  },
  {
   "cell_type": "code",
   "execution_count": 46,
   "id": "c342a91d",
   "metadata": {},
   "outputs": [
    {
     "data": {
      "text/plain": [
       "0.6490502293279552"
      ]
     },
     "execution_count": 46,
     "metadata": {},
     "output_type": "execute_result"
    }
   ],
   "source": [
    "Linear_training = 1 - (linear_train/mean_error)\n",
    "Linear_training"
   ]
  },
  {
   "cell_type": "code",
   "execution_count": 47,
   "id": "9699fddd",
   "metadata": {},
   "outputs": [
    {
     "data": {
      "text/plain": [
       "106.22235852127703"
      ]
     },
     "execution_count": 47,
     "metadata": {},
     "output_type": "execute_result"
    }
   ],
   "source": [
    "#prediction on the test set\n",
    "pred_reg_test = rid_reg.predict(test_x5)\n",
    "linear_test = Mae(test_y5, pred_reg_test)\n",
    "linear_test"
   ]
  },
  {
   "cell_type": "code",
   "execution_count": 48,
   "id": "b1a51465",
   "metadata": {},
   "outputs": [
    {
     "data": {
      "text/plain": [
       "0.6493998515138502"
      ]
     },
     "execution_count": 48,
     "metadata": {},
     "output_type": "execute_result"
    }
   ],
   "source": [
    "Linear_testing = 1 - (linear_test/mean_error)\n",
    "Linear_testing"
   ]
  },
  {
   "cell_type": "markdown",
   "id": "8f87177a",
   "metadata": {},
   "source": [
    "Decision Tree Model"
   ]
  },
  {
   "cell_type": "code",
   "execution_count": 49,
   "id": "deac0831",
   "metadata": {},
   "outputs": [
    {
     "data": {
      "text/plain": [
       "Index(['passenger_count', 'pickup_longitude', 'pickup_latitude',\n",
       "       'dropoff_longitude', 'dropoff_latitude', 'trip_duration', 'month',\n",
       "       'day_number', 'pickup_hour', 'distance', 'speed', 'flag_N', 'flag_Y',\n",
       "       'vendor_id_1', 'vendor_id_2', 'month_1', 'month_2', 'month_3',\n",
       "       'month_4', 'month_5', 'month_6', 'month_7', 'month_8', 'month_9',\n",
       "       'month_10', 'month_11', 'month_12', 'day_number_0', 'day_number_1',\n",
       "       'day_number_2', 'day_number_3', 'day_number_4', 'day_number_5',\n",
       "       'day_number_6', 'pickup_hour_0', 'pickup_hour_1', 'pickup_hour_2',\n",
       "       'pickup_hour_3', 'pickup_hour_4', 'pickup_hour_5', 'pickup_hour_6',\n",
       "       'pickup_hour_7', 'pickup_hour_8', 'pickup_hour_9', 'pickup_hour_10',\n",
       "       'pickup_hour_11', 'pickup_hour_12', 'pickup_hour_13', 'pickup_hour_14',\n",
       "       'pickup_hour_15', 'pickup_hour_16', 'pickup_hour_17', 'pickup_hour_18',\n",
       "       'pickup_hour_19', 'pickup_hour_20', 'pickup_hour_21', 'pickup_hour_22',\n",
       "       'pickup_hour_23', 'passenger_count_1', 'passenger_count_2',\n",
       "       'passenger_count_3', 'passenger_count_4', 'passenger_count_5',\n",
       "       'passenger_count_6'],\n",
       "      dtype='object')"
      ]
     },
     "execution_count": 49,
     "metadata": {},
     "output_type": "execute_result"
    }
   ],
   "source": [
    "data.columns"
   ]
  },
  {
   "cell_type": "code",
   "execution_count": 50,
   "id": "887e5e98",
   "metadata": {},
   "outputs": [],
   "source": [
    "#Shuffling the dataset\n",
    "\n",
    "from sklearn.utils import shuffle\n",
    "data = shuffle(data, random_state = 42)"
   ]
  },
  {
   "cell_type": "code",
   "execution_count": 51,
   "id": "56dc6b8c",
   "metadata": {},
   "outputs": [],
   "source": [
    "#Separating the independent and dependent variables\n",
    "\n",
    "x2 = data.drop(['trip_duration'], axis = 1)\n",
    "y2 = data['trip_duration']"
   ]
  },
  {
   "cell_type": "code",
   "execution_count": 52,
   "id": "e6e7af13",
   "metadata": {},
   "outputs": [],
   "source": [
    "#Importing library and creating the train and test set\n",
    "\n",
    "from sklearn.model_selection import train_test_split\n",
    "train_x6, test_x6, train_y6, test_y6 = train_test_split(x2, y2, random_state = 101, test_size = 0.20)"
   ]
  },
  {
   "cell_type": "code",
   "execution_count": 53,
   "id": "35c41cdf",
   "metadata": {},
   "outputs": [],
   "source": [
    "#Creating the train and validation set\n",
    "\n",
    "train_x7, valid_x6, train_y7, valid_y6 = train_test_split(train_x6, train_y6, random_state = 101, test_size = 0.20)"
   ]
  },
  {
   "cell_type": "code",
   "execution_count": 54,
   "id": "bab75e6f",
   "metadata": {},
   "outputs": [],
   "source": [
    "#Importing Decision Tree Regressor\n",
    "from sklearn.tree import DecisionTreeRegressor\n",
    "dec_mod = DecisionTreeRegressor(random_state = 10)"
   ]
  },
  {
   "cell_type": "code",
   "execution_count": 55,
   "id": "471e64fc",
   "metadata": {},
   "outputs": [
    {
     "data": {
      "text/plain": [
       "DecisionTreeRegressor(random_state=10)"
      ]
     },
     "execution_count": 55,
     "metadata": {},
     "output_type": "execute_result"
    }
   ],
   "source": [
    "dec_mod.fit(train_x7, train_y7)"
   ]
  },
  {
   "cell_type": "code",
   "execution_count": 56,
   "id": "8b3375d3",
   "metadata": {},
   "outputs": [
    {
     "data": {
      "text/plain": [
       "1.0"
      ]
     },
     "execution_count": 56,
     "metadata": {},
     "output_type": "execute_result"
    }
   ],
   "source": [
    "#Checking the train score\n",
    "\n",
    "dec_mod.score(train_x7, train_y7)"
   ]
  },
  {
   "cell_type": "code",
   "execution_count": 57,
   "id": "6a61d98e",
   "metadata": {},
   "outputs": [
    {
     "data": {
      "text/plain": [
       "0.9998166883781183"
      ]
     },
     "execution_count": 57,
     "metadata": {},
     "output_type": "execute_result"
    }
   ],
   "source": [
    "#Checking the validation score\n",
    "\n",
    "dec_mod.score(valid_x6, valid_y6)"
   ]
  },
  {
   "cell_type": "markdown",
   "id": "554131af",
   "metadata": {},
   "source": [
    "We noticed that both train and validation have a good score and we need to check whether there's overfitting and to interpret that how different properties influence the tree. Next, interpreting accuracy relative to max depth"
   ]
  },
  {
   "cell_type": "code",
   "execution_count": 58,
   "id": "1427ff0f",
   "metadata": {},
   "outputs": [],
   "source": [
    "train_acc = []\n",
    "validation_acc = []\n",
    "for dep in range(1, 15):\n",
    "    dec_mod = DecisionTreeRegressor(max_depth = dep, min_impurity_decrease = 1000, random_state=10)\n",
    "    dec_mod.fit(train_x7, train_y7)\n",
    "    train_acc.append(dec_mod.score(train_x7, train_y7))\n",
    "    validation_acc.append(dec_mod.score(valid_x6, valid_y6))"
   ]
  },
  {
   "cell_type": "code",
   "execution_count": 59,
   "id": "dce86414",
   "metadata": {},
   "outputs": [
    {
     "data": {
      "text/html": [
       "<div>\n",
       "<style scoped>\n",
       "    .dataframe tbody tr th:only-of-type {\n",
       "        vertical-align: middle;\n",
       "    }\n",
       "\n",
       "    .dataframe tbody tr th {\n",
       "        vertical-align: top;\n",
       "    }\n",
       "\n",
       "    .dataframe thead th {\n",
       "        text-align: right;\n",
       "    }\n",
       "</style>\n",
       "<table border=\"1\" class=\"dataframe\">\n",
       "  <thead>\n",
       "    <tr style=\"text-align: right;\">\n",
       "      <th></th>\n",
       "      <th>max_depth</th>\n",
       "      <th>tr_acc</th>\n",
       "      <th>valid_acc</th>\n",
       "    </tr>\n",
       "  </thead>\n",
       "  <tbody>\n",
       "    <tr>\n",
       "      <th>0</th>\n",
       "      <td>1</td>\n",
       "      <td>0.348427</td>\n",
       "      <td>0.347822</td>\n",
       "    </tr>\n",
       "    <tr>\n",
       "      <th>1</th>\n",
       "      <td>2</td>\n",
       "      <td>0.498316</td>\n",
       "      <td>0.496411</td>\n",
       "    </tr>\n",
       "    <tr>\n",
       "      <th>2</th>\n",
       "      <td>3</td>\n",
       "      <td>0.703813</td>\n",
       "      <td>0.701247</td>\n",
       "    </tr>\n",
       "    <tr>\n",
       "      <th>3</th>\n",
       "      <td>4</td>\n",
       "      <td>0.813101</td>\n",
       "      <td>0.811847</td>\n",
       "    </tr>\n",
       "    <tr>\n",
       "      <th>4</th>\n",
       "      <td>5</td>\n",
       "      <td>0.855920</td>\n",
       "      <td>0.854684</td>\n",
       "    </tr>\n",
       "  </tbody>\n",
       "</table>\n",
       "</div>"
      ],
      "text/plain": [
       "   max_depth    tr_acc  valid_acc\n",
       "0          1  0.348427   0.347822\n",
       "1          2  0.498316   0.496411\n",
       "2          3  0.703813   0.701247\n",
       "3          4  0.813101   0.811847\n",
       "4          5  0.855920   0.854684"
      ]
     },
     "execution_count": 59,
     "metadata": {},
     "output_type": "execute_result"
    }
   ],
   "source": [
    "#Collecting this data into a dataframe\n",
    "df = pd.DataFrame({'max_depth' : range(1, 15), 'tr_acc' : train_acc, 'valid_acc' : validation_acc})\n",
    "df.head()"
   ]
  },
  {
   "cell_type": "code",
   "execution_count": 60,
   "id": "dda68dac",
   "metadata": {},
   "outputs": [
    {
     "data": {
      "text/plain": [
       "Text(0, 0.5, 'performance')"
      ]
     },
     "execution_count": 60,
     "metadata": {},
     "output_type": "execute_result"
    },
    {
     "data": {
      "image/png": "[encoded data removed]",
      "text/plain": [
       "<Figure size 1200x600 with 1 Axes>"
      ]
     },
     "metadata": {},
     "output_type": "display_data"
    }
   ],
   "source": [
    "#Plotting maxdepth relative\n",
    "plt.figure(figsize = (12, 6))\n",
    "plt.plot(df['max_depth'], df['tr_acc'], marker = 'o')\n",
    "plt.plot(df['max_depth'], df['valid_acc'], marker = 's')\n",
    "plt.xlabel('depth')\n",
    "plt.ylabel('performance')"
   ]
  },
  {
   "cell_type": "markdown",
   "id": "fd3ac06e",
   "metadata": {},
   "source": [
    "The best Maximum Depth is at 9 while further plot is constant and overfitting might be the reason for this"
   ]
  },
  {
   "cell_type": "code",
   "execution_count": 61,
   "id": "fc9ccad5",
   "metadata": {},
   "outputs": [],
   "source": [
    "#Creating a function for iterating over different max features and finding train and validation score\n",
    "\n",
    "train_accura = []\n",
    "validation_accura = []\n",
    "for feat in range(1, 35):\n",
    "    dec_mod = DecisionTreeRegressor(max_depth = 9, max_features = feat, min_samples_leaf = 1000, random_state = 10)\n",
    "    dec_mod.fit(train_x7, train_y7)\n",
    "    train_accura.append(dec_mod.score(train_x7, train_y7))\n",
    "    validation_accura.append(dec_mod.score(valid_x6, valid_y6))"
   ]
  },
  {
   "cell_type": "code",
   "execution_count": 62,
   "id": "01ceda09",
   "metadata": {},
   "outputs": [
    {
     "data": {
      "text/html": [
       "<div>\n",
       "<style scoped>\n",
       "    .dataframe tbody tr th:only-of-type {\n",
       "        vertical-align: middle;\n",
       "    }\n",
       "\n",
       "    .dataframe tbody tr th {\n",
       "        vertical-align: top;\n",
       "    }\n",
       "\n",
       "    .dataframe thead th {\n",
       "        text-align: right;\n",
       "    }\n",
       "</style>\n",
       "<table border=\"1\" class=\"dataframe\">\n",
       "  <thead>\n",
       "    <tr style=\"text-align: right;\">\n",
       "      <th></th>\n",
       "      <th>max_features</th>\n",
       "      <th>train_acc</th>\n",
       "      <th>valid_acc</th>\n",
       "    </tr>\n",
       "  </thead>\n",
       "  <tbody>\n",
       "    <tr>\n",
       "      <th>0</th>\n",
       "      <td>1</td>\n",
       "      <td>0.062160</td>\n",
       "      <td>0.063829</td>\n",
       "    </tr>\n",
       "    <tr>\n",
       "      <th>1</th>\n",
       "      <td>2</td>\n",
       "      <td>0.370484</td>\n",
       "      <td>0.368965</td>\n",
       "    </tr>\n",
       "    <tr>\n",
       "      <th>2</th>\n",
       "      <td>3</td>\n",
       "      <td>0.445187</td>\n",
       "      <td>0.445262</td>\n",
       "    </tr>\n",
       "    <tr>\n",
       "      <th>3</th>\n",
       "      <td>4</td>\n",
       "      <td>0.424375</td>\n",
       "      <td>0.420536</td>\n",
       "    </tr>\n",
       "    <tr>\n",
       "      <th>4</th>\n",
       "      <td>5</td>\n",
       "      <td>0.530915</td>\n",
       "      <td>0.527493</td>\n",
       "    </tr>\n",
       "  </tbody>\n",
       "</table>\n",
       "</div>"
      ],
      "text/plain": [
       "   max_features  train_acc  valid_acc\n",
       "0             1   0.062160   0.063829\n",
       "1             2   0.370484   0.368965\n",
       "2             3   0.445187   0.445262\n",
       "3             4   0.424375   0.420536\n",
       "4             5   0.530915   0.527493"
      ]
     },
     "execution_count": 62,
     "metadata": {},
     "output_type": "execute_result"
    }
   ],
   "source": [
    "#Collecting the above data into a dataframe\n",
    "df = pd.DataFrame({'max_features':range(1, 35), 'train_acc':train_accura, 'valid_acc':validation_accura})\n",
    "df.head()"
   ]
  },
  {
   "cell_type": "code",
   "execution_count": 63,
   "id": "952df496",
   "metadata": {},
   "outputs": [
    {
     "data": {
      "text/plain": [
       "Text(0, 0.5, 'Performance')"
      ]
     },
     "execution_count": 63,
     "metadata": {},
     "output_type": "execute_result"
    },
    {
     "data": {
      "image/png": "[encoded data removed]",
      "text/plain": [
       "<Figure size 1200x600 with 1 Axes>"
      ]
     },
     "metadata": {},
     "output_type": "display_data"
    }
   ],
   "source": [
    "#Plotting the max features according to the model score\n",
    "\n",
    "plt.figure(figsize =(12, 6))\n",
    "plt.plot(df['max_features'], df['train_acc'], marker = 's')\n",
    "plt.plot(df['max_features'], df['valid_acc'], marker = 'o')\n",
    "plt.xlabel('Features')\n",
    "plt.ylabel('Performance')"
   ]
  },
  {
   "cell_type": "markdown",
   "id": "f2e21870",
   "metadata": {},
   "source": [
    "The best no. of feature from the plot is 31. Moving on selecting the max feature and depth and finding train and test score."
   ]
  },
  {
   "cell_type": "code",
   "execution_count": 64,
   "id": "38f8d365",
   "metadata": {},
   "outputs": [
    {
     "data": {
      "text/plain": [
       "DecisionTreeRegressor(max_depth=9, max_features=31, min_samples_leaf=1000,\n",
       "                      random_state=10)"
      ]
     },
     "execution_count": 64,
     "metadata": {},
     "output_type": "execute_result"
    }
   ],
   "source": [
    "DecisionTreeRegressor(max_depth = 9, max_features = 31, min_samples_leaf = 1000, random_state =10)"
   ]
  },
  {
   "cell_type": "code",
   "execution_count": 65,
   "id": "790fd164",
   "metadata": {},
   "outputs": [
    {
     "data": {
      "text/plain": [
       "DecisionTreeRegressor(max_depth=9, max_features=34, min_samples_leaf=1000,\n",
       "                      random_state=10)"
      ]
     },
     "execution_count": 65,
     "metadata": {},
     "output_type": "execute_result"
    }
   ],
   "source": [
    "#Fitting this model\n",
    "\n",
    "dec_mod.fit(train_x7, train_y7)"
   ]
  },
  {
   "cell_type": "code",
   "execution_count": 66,
   "id": "a7167149",
   "metadata": {},
   "outputs": [
    {
     "data": {
      "text/plain": [
       "0.9595839558049098"
      ]
     },
     "execution_count": 66,
     "metadata": {},
     "output_type": "execute_result"
    }
   ],
   "source": [
    "#Training Score\n",
    "dec_train = dec_mod.score(train_x7, train_y7)\n",
    "dec_train"
   ]
  },
  {
   "cell_type": "code",
   "execution_count": 67,
   "id": "7eee1f4e",
   "metadata": {},
   "outputs": [
    {
     "data": {
      "text/plain": [
       "0.9584519935010996"
      ]
     },
     "execution_count": 67,
     "metadata": {},
     "output_type": "execute_result"
    }
   ],
   "source": [
    "#Validation Score\n",
    "dec_mod.score(valid_x6, valid_y6)"
   ]
  },
  {
   "cell_type": "markdown",
   "id": "c5756705",
   "metadata": {},
   "source": [
    "Finally, at last we see how this model performs on the test data"
   ]
  },
  {
   "cell_type": "code",
   "execution_count": 68,
   "id": "57330ea5",
   "metadata": {},
   "outputs": [
    {
     "data": {
      "text/plain": [
       "0.9586103973724032"
      ]
     },
     "execution_count": 68,
     "metadata": {},
     "output_type": "execute_result"
    }
   ],
   "source": [
    "dec_test = dec_mod.score(test_x6, test_y6)\n",
    "dec_test"
   ]
  },
  {
   "cell_type": "markdown",
   "id": "011e7b07",
   "metadata": {},
   "source": [
    "We get to see that the data didn't overfit and a good test score is obtained."
   ]
  },
  {
   "cell_type": "markdown",
   "id": "9f604bd3",
   "metadata": {},
   "source": [
    "K-Nearest Neighbour Model"
   ]
  },
  {
   "cell_type": "code",
   "execution_count": 69,
   "id": "2c59051c",
   "metadata": {},
   "outputs": [],
   "source": [
    "#Separating dependent and independent variables\n",
    "\n",
    "x = data.drop(['trip_duration'], axis =1)\n",
    "y = data['trip_duration']"
   ]
  },
  {
   "cell_type": "code",
   "execution_count": 70,
   "id": "69351120",
   "metadata": {},
   "outputs": [],
   "source": [
    "#Importing MinMax Scaler\n",
    "\n",
    "from sklearn.preprocessing import MinMaxScaler\n",
    "scaler = MinMaxScaler()\n",
    "x_scale = scaler.fit_transform(x)"
   ]
  },
  {
   "cell_type": "code",
   "execution_count": 71,
   "id": "a55d7ce5",
   "metadata": {},
   "outputs": [],
   "source": [
    "frame = pd.DataFrame(x_scale, columns= x.columns)"
   ]
  },
  {
   "cell_type": "code",
   "execution_count": 72,
   "id": "e5d9a3a8",
   "metadata": {},
   "outputs": [],
   "source": [
    "#Creating train and test sets\n",
    "from sklearn.model_selection import train_test_split\n",
    "train_x3, test_x3, train_y3, test_y3 = train_test_split(frame,y, random_state = 65)"
   ]
  },
  {
   "cell_type": "code",
   "execution_count": 73,
   "id": "0f23beff",
   "metadata": {},
   "outputs": [],
   "source": [
    "# Importing KNN Regressor and Evaluation Metric MAE\n",
    "from sklearn.neighbors import KNeighborsRegressor as knn\n",
    "from sklearn.metrics import mean_absolute_error as mae"
   ]
  },
  {
   "cell_type": "code",
   "execution_count": 74,
   "id": "f726b824",
   "metadata": {},
   "outputs": [
    {
     "data": {
      "text/plain": [
       "KNeighborsRegressor(n_neighbors=2)"
      ]
     },
     "execution_count": 74,
     "metadata": {},
     "output_type": "execute_result"
    }
   ],
   "source": [
    "# Creating instance of KNN\n",
    "regr = knn(n_neighbors = 2)\n",
    "\n",
    "# Fitting the model\n",
    "regr.fit(train_x3, train_y3)"
   ]
  },
  {
   "cell_type": "code",
   "execution_count": 75,
   "id": "7fe1bef8",
   "metadata": {},
   "outputs": [],
   "source": [
    "train_pred = regr.predict(train_x3)"
   ]
  },
  {
   "cell_type": "code",
   "execution_count": 80,
   "id": "4e9e840f",
   "metadata": {},
   "outputs": [
    {
     "name": "stdout",
     "output_type": "stream",
     "text": [
      "Train MAE score is - 0.7590066244232464\n"
     ]
    }
   ],
   "source": [
    "k2 = mae(train_y3, train_pred)\n",
    "KNN_train = 1 - (k2/mean_error)\n",
    "print('Train MAE score is -', KNN_train)"
   ]
  },
  {
   "cell_type": "code",
   "execution_count": 81,
   "id": "828d9cf1",
   "metadata": {},
   "outputs": [
    {
     "name": "stdout",
     "output_type": "stream",
     "text": [
      "Test MAE score is - 0.5618801185421891\n"
     ]
    }
   ],
   "source": [
    "test_pred = regr.predict(test_x3)\n",
    "k4 = MAE(test_pred, test_y3)\n",
    "KNN_Test = 1 - (k4/mean_error)\n",
    "print('Test MAE score is -', KNN_Test)"
   ]
  },
  {
   "cell_type": "markdown",
   "id": "03f44cb4",
   "metadata": {},
   "source": [
    "With respect to KNN model, after trying over different values of n neighbors and using predict for the training dataset, there is a failure of the output due to lack of computational capacity or the system freezes. With this model, there is no particular conclusion. Even after trying the concept of k values, still the same problem arises. It is better not to use KNN for this dataset."
   ]
  },
  {
   "cell_type": "markdown",
   "id": "0c2ffeed",
   "metadata": {},
   "source": [
    "Comparing Models"
   ]
  },
  {
   "cell_type": "code",
   "execution_count": 82,
   "id": "f1a254b3",
   "metadata": {},
   "outputs": [],
   "source": [
    "p = {'type':['train','test','train','test'],\n",
    "     'model': ['linear','linear','decision_tree','decision_tree'],\n",
    "     'score': [Linear_training, Linear_testing,dec_train,dec_test]\n",
    "    }\n",
    "\n",
    "\n",
    "df = pd.DataFrame(p)"
   ]
  },
  {
   "cell_type": "code",
   "execution_count": 83,
   "id": "813a633b",
   "metadata": {},
   "outputs": [
    {
     "data": {
      "text/plain": [
       "<AxesSubplot:xlabel='model', ylabel='score'>"
      ]
     },
     "execution_count": 83,
     "metadata": {},
     "output_type": "execute_result"
    },
    {
     "data": {
      "image/png": "[encoded data removed]",
      "text/plain": [
       "<Figure size 640x480 with 1 Axes>"
      ]
     },
     "metadata": {},
     "output_type": "display_data"
    }
   ],
   "source": [
    "sns.barplot(data = df,x = 'model' ,y = 'score',hue = 'type',ci = None )"
   ]
  },
  {
   "cell_type": "markdown",
   "id": "5d2c22cc",
   "metadata": {},
   "source": [
    "Looking at the plot, it is clear that the Decision tree is giving best output for prediction of data."
   ]
  }
 ],
 "metadata": {
  "kernelspec": {
   "display_name": "Python 3 (ipykernel)",
   "language": "python",
   "name": "python3"
  },
  "language_info": {
   "codemirror_mode": {
    "name": "ipython",
    "version": 3
   },
   "file_extension": ".py",
   "mimetype": "text/x-python",
   "name": "python",
   "nbconvert_exporter": "python",
   "pygments_lexer": "ipython3",
   "version": "3.9.13"
  }
 },
 "nbformat": 4,
 "nbformat_minor": 5
}
